{
 "cells": [
  {
   "cell_type": "markdown",
   "metadata": {},
   "source": [
    "### Version Check"
   ]
  },
  {
   "cell_type": "code",
   "execution_count": 0,
   "metadata": {
    "collapsed": false
   },
   "outputs": [
    {
     "name": "stdout",
     "output_type": "stream",
     "text": [
      "Value = \"FriCAS 2014-12-18 compiled at Son Okt 25 19:16:29 CET 2015\"\n",
      "\n",
      "Value = \"0.9.4 :: 24-OCT-2015\"\n",
      "\n"
     ]
    },
    {
     "data": {
      "text/plain": []
     },
     "execution_count": 0,
     "metadata": {},
     "output_type": "execute_result"
    }
   ],
   "source": [
    ")version\n",
    ")lisp cl-jupyter::+ispad-version+"
   ]
  },
  {
   "cell_type": "markdown",
   "metadata": {},
   "source": [
    "### Examples"
   ]
  },
  {
   "cell_type": "code",
   "execution_count": 1,
   "metadata": {
    "collapsed": false
   },
   "outputs": [
    {
     "data": {
      "text/plain": [
       "                                                                   Type: Void\n"
      ]
     },
     "execution_count": 1,
     "metadata": {},
     "output_type": "execute_result"
    }
   ],
   "source": [
    "f(x) ==\n",
    "  x>0 => 1\n",
    "  x=0 => 0\n",
    "  return -1"
   ]
  },
  {
   "cell_type": "code",
   "execution_count": 2,
   "metadata": {
    "collapsed": false
   },
   "outputs": [
    {
     "name": "stdout",
     "output_type": "stream",
     "text": [
      "Warning: HyperTeX macro table not found\n",
      "   Compiling function f with type Float -> Integer \n"
     ]
    },
    {
     "data": {
      "text/plain": [
       "   1\n",
       "                                                        Type: PositiveInteger\n"
      ]
     },
     "execution_count": 2,
     "metadata": {},
     "output_type": "execute_result"
    }
   ],
   "source": [
    "f(12.344)"
   ]
  },
  {
   "cell_type": "code",
   "execution_count": 3,
   "metadata": {
    "collapsed": false
   },
   "outputs": [
    {
     "data": {
      "text/plain": [
       "   0\n",
       "                                                     Type: NonNegativeInteger\n"
      ]
     },
     "execution_count": 3,
     "metadata": {},
     "output_type": "execute_result"
    }
   ],
   "source": [
    "f(0.0)"
   ]
  },
  {
   "cell_type": "code",
   "execution_count": 4,
   "metadata": {
    "collapsed": false
   },
   "outputs": [
    {
     "name": "stdout",
     "output_type": "stream",
     "text": [
      "   Compiling function f with type Fraction(Integer) -> Integer \n"
     ]
    },
    {
     "data": {
      "text/plain": [
       "   - 1\n",
       "                                                                Type: Integer\n"
      ]
     },
     "execution_count": 4,
     "metadata": {},
     "output_type": "execute_result"
    }
   ],
   "source": [
    "f(-1/7)"
   ]
  },
  {
   "cell_type": "code",
   "execution_count": 5,
   "metadata": {
    "collapsed": false
   },
   "outputs": [
    {
     "data": {
      "text/plain": [
       "   [1,4,9,16,25,36,49,64]\n",
       "                                                        Type: Vector(Integer)\n"
      ]
     },
     "execution_count": 5,
     "metadata": {},
     "output_type": "execute_result"
    }
   ],
   "source": [
    "v:Vector(Integer):=[i^2 for i in 1..8]"
   ]
  },
  {
   "cell_type": "code",
   "execution_count": 6,
   "metadata": {
    "collapsed": false
   },
   "outputs": [
    {
     "data": {
      "text/plain": [
       "   +1  4   9   16  25  36   49   64 +\n",
       "   |                                |\n",
       "   |2  8   18  32  50  72   98   128|\n",
       "   |                                |\n",
       "   +3  12  27  48  75  108  147  192+\n",
       "                                                        Type: Matrix(Integer)\n"
      ]
     },
     "execution_count": 6,
     "metadata": {},
     "output_type": "execute_result"
    }
   ],
   "source": [
    "M:= matrix [v,2*v,3*v]"
   ]
  },
  {
   "cell_type": "code",
   "execution_count": 7,
   "metadata": {
    "collapsed": false
   },
   "outputs": [
    {
     "data": {
      "text/plain": [
       "   [8772,17544,26316]\n",
       "                                                        Type: Vector(Integer)\n"
      ]
     },
     "execution_count": 7,
     "metadata": {},
     "output_type": "execute_result"
    }
   ],
   "source": [
    "L:=M*v"
   ]
  },
  {
   "cell_type": "markdown",
   "metadata": {},
   "source": [
    "### TeX Output"
   ]
  },
  {
   "cell_type": "code",
   "execution_count": 8,
   "metadata": {
    "collapsed": false
   },
   "outputs": [
    {
     "data": {
      "text/plain": []
     },
     "execution_count": 8,
     "metadata": {},
     "output_type": "execute_result"
    }
   ],
   "source": [
    ")set output tex on"
   ]
  },
  {
   "cell_type": "code",
   "execution_count": 9,
   "metadata": {
    "collapsed": false
   },
   "outputs": [
    {
     "data": {
      "text/latex": [
       "\\(\n",
       "\\def\\sp{^}\\def\\sb{_}\\def\\leqno(#1){}\n",
       "\\def\\erf{\\mathrm{erf}}\\def\\sinh{\\mathrm{sinh}}\n",
       "\\def\\zag#1#2{{{\\left.{#1}\\right|}\\over{\\left|{#2}\\right.}}}\n",
       "\\def\\csch{\\mathrm{csch}}\n",
       "\\require{color}\n",
       "\\)\n",
       "\n",
       "$$\n",
       "\\left[\n",
       "\\begin{array}{cccccccc}\n",
       "1 & 4 & 9 & {16} & {25} & {36} & {49} & {64} \\\\ \n",
       "2 & 8 & {18} & {32} & {50} & {72} & {98} & {128} \\\\ \n",
       "3 & {12} & {27} & {48} & {75} & {108} & {147} & {192} \n",
       "\\end{array}\n",
       "\\right]\n",
       "\\leqno(NIL)\n",
       "$$\n",
       "\n",
       "\n",
       "\\(\\\\[3ex]\\color{blue}\\scriptsize\\text{Matrix(Integer)}\\)\n"
      ],
      "text/plain": [
       "   +1  4   9   16  25  36   49   64 +\n",
       "   |                                |\n",
       "   |2  8   18  32  50  72   98   128|\n",
       "   |                                |\n",
       "   +3  12  27  48  75  108  147  192+\n",
       "                                                        Type: Matrix(Integer)\n"
      ]
     },
     "execution_count": 9,
     "metadata": {},
     "output_type": "execute_result"
    }
   ],
   "source": [
    "M"
   ]
  },
  {
   "cell_type": "code",
   "execution_count": 10,
   "metadata": {
    "collapsed": false
   },
   "outputs": [
    {
     "data": {
      "text/latex": [
       "\\(\n",
       "\\def\\sp{^}\\def\\sb{_}\\def\\leqno(#1){}\n",
       "\\def\\erf{\\mathrm{erf}}\\def\\sinh{\\mathrm{sinh}}\n",
       "\\def\\zag#1#2{{{\\left.{#1}\\right|}\\over{\\left|{#2}\\right.}}}\n",
       "\\def\\csch{\\mathrm{csch}}\n",
       "\\require{color}\n",
       "\\)\n",
       "\n",
       "$$\n",
       "\\left[\n",
       "{8772}, \\: {17544}, \\: {26316} \n",
       "\\right]\n",
       "\\leqno(NIL)\n",
       "$$\n",
       "\n",
       "\n",
       "\\(\\\\[3ex]\\color{blue}\\scriptsize\\text{Vector(Integer)}\\)\n"
      ],
      "text/plain": [
       "   [8772,17544,26316]\n",
       "                                                        Type: Vector(Integer)\n"
      ]
     },
     "execution_count": 10,
     "metadata": {},
     "output_type": "execute_result"
    }
   ],
   "source": [
    "L"
   ]
  },
  {
   "cell_type": "code",
   "execution_count": 11,
   "metadata": {
    "collapsed": false
   },
   "outputs": [
    {
     "data": {
      "text/latex": [
       "\\(\n",
       "\\def\\sp{^}\\def\\sb{_}\\def\\leqno(#1){}\n",
       "\\def\\erf{\\mathrm{erf}}\\def\\sinh{\\mathrm{sinh}}\n",
       "\\def\\zag#1#2{{{\\left.{#1}\\right|}\\over{\\left|{#2}\\right.}}}\n",
       "\\def\\csch{\\mathrm{csch}}\n",
       "\\require{color}\n",
       "\\)\n",
       "\n",
       "$$\n",
       "\\int \\sp{\\displaystyle x} {{1 \\over {\\sqrt {{{{ \\%A} \\sp {4}}+1}}}} \\  {d \n",
       " \\%A}} \n",
       "\\leqno(NIL)\n",
       "$$\n",
       "\n",
       "\n",
       "\\(\\\\[3ex]\\color{blue}\\scriptsize\\text{Union(Expression(Integer),...)}\\)\n"
      ],
      "text/plain": [
       "      x\n",
       "    ++       1\n",
       "    |   ---------- d%A\n",
       "   ++    +-------+\n",
       "         |  4\n",
       "        \\|%A  + 1\n",
       "                                         Type: Union(Expression(Integer),...)\n"
      ]
     },
     "execution_count": 11,
     "metadata": {},
     "output_type": "execute_result"
    }
   ],
   "source": [
    "I:=integrate(1/sqrt(1+x^4),x)"
   ]
  },
  {
   "cell_type": "code",
   "execution_count": 12,
   "metadata": {
    "collapsed": false
   },
   "outputs": [
    {
     "data": {
      "text/latex": [
       "\\(\n",
       "\\def\\sp{^}\\def\\sb{_}\\def\\leqno(#1){}\n",
       "\\def\\erf{\\mathrm{erf}}\\def\\sinh{\\mathrm{sinh}}\n",
       "\\def\\zag#1#2{{{\\left.{#1}\\right|}\\over{\\left|{#2}\\right.}}}\n",
       "\\def\\csch{\\mathrm{csch}}\n",
       "\\require{color}\n",
       "\\)\n",
       "\n",
       "$$\n",
       "-{{2 \\  {{x} \\sp {3}}} \\over {{\\left( {{x} \\sp {4}}+1 \n",
       "\\right)}\n",
       "\\  {\\sqrt {{{{x} \\sp {4}}+1}}}}} \n",
       "\\leqno(NIL)\n",
       "$$\n",
       "\n",
       "\n",
       "\\(\\\\[3ex]\\color{blue}\\scriptsize\\text{Expression(Integer)}\\)\n"
      ],
      "text/plain": [
       "              3\n",
       "            2x\n",
       "   - -----------------\n",
       "              +------+\n",
       "       4      | 4\n",
       "     (x  + 1)\\|x  + 1\n",
       "                                                    Type: Expression(Integer)\n"
      ]
     },
     "execution_count": 12,
     "metadata": {},
     "output_type": "execute_result"
    }
   ],
   "source": [
    "D(I,x,2)"
   ]
  },
  {
   "cell_type": "code",
   "execution_count": 13,
   "metadata": {
    "collapsed": false
   },
   "outputs": [
    {
     "data": {
      "text/latex": [
       "\\(\n",
       "\\def\\sp{^}\\def\\sb{_}\\def\\leqno(#1){}\n",
       "\\def\\erf{\\mathrm{erf}}\\def\\sinh{\\mathrm{sinh}}\n",
       "\\def\\zag#1#2{{{\\left.{#1}\\right|}\\over{\\left|{#2}\\right.}}}\n",
       "\\def\\csch{\\mathrm{csch}}\n",
       "\\require{color}\n",
       "\\)\n",
       "\n",
       "$$\n",
       "G \n",
       "\\leqno(NIL)\n",
       "$$\n",
       "\n",
       "\n",
       "\\(\\\\[3ex]\\color{blue}\\scriptsize\\text{Symbol}\\)\n"
      ],
      "text/plain": [
       "   G\n",
       "                                                                 Type: Symbol\n"
      ]
     },
     "execution_count": 13,
     "metadata": {},
     "output_type": "execute_result"
    }
   ],
   "source": [
    "function(%,G,x)"
   ]
  },
  {
   "cell_type": "code",
   "execution_count": 14,
   "metadata": {
    "collapsed": false
   },
   "outputs": [
    {
     "name": "stdout",
     "output_type": "stream",
     "text": [
      "   Compiling function G with type Variable(z) -> Expression(Integer) \n"
     ]
    },
    {
     "data": {
      "text/latex": [
       "\\(\n",
       "\\def\\sp{^}\\def\\sb{_}\\def\\leqno(#1){}\n",
       "\\def\\erf{\\mathrm{erf}}\\def\\sinh{\\mathrm{sinh}}\n",
       "\\def\\zag#1#2{{{\\left.{#1}\\right|}\\over{\\left|{#2}\\right.}}}\n",
       "\\def\\csch{\\mathrm{csch}}\n",
       "\\require{color}\n",
       "\\)\n",
       "\n",
       "$$\n",
       "1 \\over {\\sqrt {{{{z} \\sp {4}}+1}}} \n",
       "\\leqno(NIL)\n",
       "$$\n",
       "\n",
       "\n",
       "\\(\\\\[3ex]\\color{blue}\\scriptsize\\text{Union(Expression(Integer),...)}\\)\n"
      ],
      "text/plain": [
       "       1\n",
       "   ---------\n",
       "    +------+\n",
       "    | 4\n",
       "   \\|z  + 1\n",
       "                                         Type: Union(Expression(Integer),...)\n"
      ]
     },
     "execution_count": 14,
     "metadata": {},
     "output_type": "execute_result"
    }
   ],
   "source": [
    "integrate(G(z),z)"
   ]
  },
  {
   "cell_type": "markdown",
   "metadata": {},
   "source": [
    "### Compile Test"
   ]
  },
  {
   "cell_type": "code",
   "execution_count": 15,
   "metadata": {
    "collapsed": false
   },
   "outputs": [
    {
     "name": "stdout",
     "output_type": "stream",
     "text": [
      "   Compiling FriCAS source code from file \n",
      "      /projects/3e4ce4fa-daa2-4a99-b163-e4fa42a5ccf3/jfricas/jupyter.spad\n",
      "      using old system compiler.\n",
      "   JUPY abbreviates package jupyter \n",
      "------------------------------------------------------------------------\n",
      "   initializing NRLIB JUPY for jupyter \n",
      "   compiling into NRLIB JUPY \n",
      "Adding $ modemaps\n",
      "Adding (String) modemaps\n",
      "Adding (FileName) modemaps\n",
      "   compiling local jFormat : (String,String) -> FileName\n",
      "Adding (TextFile) modemaps\n",
      "Time: 0.00 SEC.\n",
      "\n",
      "   compiling exported jHtml : String -> FileName\n",
      "Time: 0 SEC.\n",
      "\n",
      "   compiling exported jMarkdown : String -> FileName\n",
      "Time: 0 SEC.\n",
      "\n",
      "   compiling exported jLatex : String -> FileName\n",
      "Time: 0 SEC.\n",
      "\n",
      "   compiling exported jJavascript : String -> FileName\n",
      "Time: 0 SEC.\n",
      "\n",
      "Adding (List (String)) modemaps\n",
      "Adding (Expression (Float)) modemaps\n",
      "Adding (SegmentBinding (Float)) modemaps\n",
      "   compiling exported jDraw : (Expression Float,SegmentBinding Float) -> FileName\n",
      "Adding (GnuDraw) modemaps\n",
      "Adding (MoreSystemCommands) modemaps\n",
      "Time: 0.01 SEC.\n",
      "\n",
      "Adding (Expression (Float)) modemaps\n",
      "Adding (SegmentBinding (Float)) modemaps\n",
      "   compiling exported jDraw : (Expression Float,SegmentBinding Float,SegmentBinding Float) -> FileName\n",
      "Adding (GnuDraw) modemaps\n",
      "Adding (MoreSystemCommands) modemaps\n",
      "Time: 0.01 SEC.\n",
      "\n",
      "Adding (DoubleFloat) modemaps\n",
      "Adding (List (DoubleFloat)) modemaps\n",
      "   compiling exported jDrawXY : (List DoubleFloat,List DoubleFloat) -> FileName\n",
      "Adding (GnuDraw) modemaps\n",
      "Adding (MoreSystemCommands) modemaps\n",
      "Time: 0 SEC.\n",
      "\n",
      "(time taken in buildFunctor:  0)\n",
      "\n",
      "\n",
      ";;;     ***       |jupyter| REDEFINED\n",
      "\n",
      "\n",
      ";;;     ***       |jupyter| REDEFINED\n",
      "Time: 0.01 SEC.\n",
      "\n",
      "\n",
      "   Cumulative Statistics for Constructor jupyter\n",
      "      Time: 0.03 seconds\n",
      " \n",
      "   finalizing NRLIB JUPY \n",
      "   Processing jupyter for Browser database:\n",
      "--------constructor---------\n",
      "--------(jHtml ((FileName) (String)))---------\n",
      "--->-->jupyter((jHtml ((FileName) (String)))): Improper first word in comments: html\n",
      "\"html display in ispad\"\n",
      "--------(jMarkdown ((FileName) (String)))---------\n",
      "--->-->jupyter((jMarkdown ((FileName) (String)))): Improper first word in comments: markdown\n",
      "\"markdown display in ispad\"\n",
      "--------(jLatex ((FileName) (String)))---------\n",
      "--->-->jupyter((jLatex ((FileName) (String)))): Improper first word in comments: latex\n",
      "\"latex display in ispad\"\n",
      "--------(jJavascript ((FileName) (String)))---------\n",
      "--->-->jupyter((jJavascript ((FileName) (String)))): Improper first word in comments: javascript\n",
      "\"javascript display in ispad\"\n",
      "--------(jDraw ((FileName) (Expression (Float)) (SegmentBinding (Float))))---------\n",
      "--->-->jupyter((jDraw ((FileName) (Expression (Float)) (SegmentBinding (Float))))): Improper first word in comments: GnuDraw\n",
      "\"GnuDraw 2D in Notebook\"\n",
      "--------(jDraw ((FileName) (Expression (Float)) (SegmentBinding (Float)) (SegmentBinding (Float))))---------\n",
      "--->-->jupyter((jDraw ((FileName) (Expression (Float)) (SegmentBinding (Float)) (SegmentBinding (Float))))): Improper first word in comments: GnuDraw\n",
      "\"GnuDraw 3D in Notebook\"\n",
      "--------(jDrawXY ((FileName) (List (DoubleFloat)) (List (DoubleFloat))))---------\n",
      "--->-->jupyter((jDrawXY ((FileName) (List (DoubleFloat)) (List (DoubleFloat))))): Improper first word in comments: GnuDraw\n",
      "\"GnuDraw 2D - (\\\\spad{x},{}\\\\spad{y}) lists\"\n",
      "\n",
      "; compiling file \"/projects/3e4ce4fa-daa2-4a99-b163-e4fa42a5ccf3/jfricas/JUPY.NRLIB/JUPY.lsp\" (written 10 NOV 2015 04:45:12 PM):\n",
      "\n",
      "\n",
      "; /projects/3e4ce4fa-daa2-4a99-b163-e4fa42a5ccf3/jfricas/JUPY.NRLIB/JUPY.fasl written\n",
      "\n",
      "; compilation finished in 0:00:00.089\n",
      "\n",
      "------------------------------------------------------------------------\n",
      "   jupyter is now explicitly exposed in frame initial \n",
      "   jupyter will be automatically loaded when needed from \n",
      "      /projects/3e4ce4fa-daa2-4a99-b163-e4fa42a5ccf3/jfricas/JUPY.NRLIB/JUPY\n",
      "\n",
      "\n"
     ]
    },
    {
     "data": {
      "text/plain": []
     },
     "execution_count": 15,
     "metadata": {},
     "output_type": "execute_result"
    }
   ],
   "source": [
    ")co jupyter"
   ]
  },
  {
   "cell_type": "code",
   "execution_count": 16,
   "metadata": {
    "collapsed": false
   },
   "outputs": [
    {
     "name": "stdout",
     "output_type": "stream",
     "text": [
      " jupyter  is a package constructor\n",
      " Abbreviation for jupyter is JUPY \n",
      " This constructor is exposed in this frame.\n",
      "------------------------------- Operations --------------------------------\n",
      " jHtml : String -> FileName            jJavascript : String -> FileName\n",
      " jLatex : String -> FileName           jMarkdown : String -> FileName\n",
      " jDraw : (Expression(Float),SegmentBinding(Float)) -> FileName\n",
      " jDraw : (Expression(Float),SegmentBinding(Float),SegmentBinding(Float)) -> FileName\n",
      " jDrawXY : (List(DoubleFloat),List(DoubleFloat)) -> FileName\n",
      "\n"
     ]
    },
    {
     "data": {
      "text/plain": []
     },
     "execution_count": 16,
     "metadata": {},
     "output_type": "execute_result"
    }
   ],
   "source": [
    ")show JUPY"
   ]
  },
  {
   "cell_type": "markdown",
   "metadata": {},
   "source": [
    "### jupyter.spad tests\n",
    "\n",
    "```\n",
    "  The \")system gnuplot\" command apparently does not work in SMC. \n",
    "  Therefore all \"jDraw\" functions will fail :(\n",
    "  Possibly a security feature?\n",
    "```\n"
   ]
  },
  {
   "cell_type": "code",
   "execution_count": 17,
   "metadata": {
    "collapsed": false
   },
   "outputs": [
    {
     "name": "stdout",
     "output_type": "stream",
     "text": [
      "   Compiling function G with type Variable(x) -> Expression(Integer) \n",
      "   Compiling function %C with type DoubleFloat -> DoubleFloat \n"
     ]
    },
    {
     "data": {
      "text/latex": [
       "\\(\n",
       "\\def\\sp{^}\\def\\sb{_}\\def\\leqno(#1){}\n",
       "\\def\\erf{\\mathrm{erf}}\\def\\sinh{\\mathrm{sinh}}\n",
       "\\def\\zag#1#2{{{\\left.{#1}\\right|}\\over{\\left|{#2}\\right.}}}\n",
       "\\def\\csch{\\mathrm{csch}}\n",
       "\\require{color}\n",
       "\\)\n",
       "\n",
       "\n",
       "\\(\\\\[3ex]\\color{blue}\\scriptsize\\text{Void}\\)\n"
      ],
      "text/plain": [
       "                                                                   Type: Void\n"
      ]
     },
     "execution_count": 17,
     "metadata": {},
     "output_type": "execute_result"
    }
   ],
   "source": [
    "gnuDraw(G(x),x=-1..1,\"gx.dat\")"
   ]
  },
  {
   "cell_type": "code",
   "execution_count": 18,
   "metadata": {
    "collapsed": false
   },
   "outputs": [
    {
     "data": {
      "text/plain": []
     },
     "execution_count": 18,
     "metadata": {},
     "output_type": "execute_result"
    }
   ],
   "source": [
    ")system \"gnuplot -e 'set term png' gx.dat > gx.png\"\n",
    "-- Go to Files->New->Terminal and do it manually ..."
   ]
  },
  {
   "cell_type": "code",
   "execution_count": 19,
   "metadata": {
    "collapsed": false
   },
   "outputs": [
    {
     "data": {
      "image/png": "[encoded data removed]",
      "text/plain": [
       "   \"gx.png\"\n",
       "                                                               Type: FileName\n"
      ]
     },
     "execution_count": 19,
     "metadata": {},
     "output_type": "execute_result"
    }
   ],
   "source": [
    "\"gx.png\"::FileName"
   ]
  },
  {
   "cell_type": "code",
   "execution_count": 20,
   "metadata": {
    "collapsed": false
   },
   "outputs": [
    {
     "data": {
      "text/html": [
       "<a href=\"http://www.w3schools.com/html/\">Visit our HTML tutorial</a>"
      ],
      "text/plain": [
       "   \"/tmp/jhtml.html\"\n",
       "                                                               Type: FileName\n"
      ]
     },
     "execution_count": 20,
     "metadata": {},
     "output_type": "execute_result"
    }
   ],
   "source": [
    "jHtml  \"<a href=_\"http://www.w3schools.com/html/_\">Visit our HTML tutorial</a>\""
   ]
  },
  {
   "cell_type": "code",
   "execution_count": 21,
   "metadata": {
    "collapsed": false
   },
   "outputs": [
    {
     "data": {
      "text/html": [
       "<table style=\"width:100%\">   <tr>     <td>Jill</td>     <td>Smith</td>     <td>50</td>   </tr>   <tr>     <td>Eve</td>     <td>Jackson</td>     <td>94</td>   </tr> </table>"
      ],
      "text/plain": [
       "   \"/tmp/jhtml.html\"\n",
       "                                                               Type: FileName\n"
      ]
     },
     "execution_count": 21,
     "metadata": {},
     "output_type": "execute_result"
    }
   ],
   "source": [
    "jHtml \"<table style=_\"width:100%_\"> _\n",
    "  <tr> _\n",
    "    <td>Jill</td> _\n",
    "    <td>Smith</td> _\n",
    "    <td>50</td> _\n",
    "  </tr> _\n",
    "  <tr> _\n",
    "    <td>Eve</td> _\n",
    "    <td>Jackson</td> _\n",
    "    <td>94</td> _\n",
    "  </tr> _\n",
    "</table>\""
   ]
  },
  {
   "cell_type": "code",
   "execution_count": 22,
   "metadata": {
    "collapsed": false
   },
   "outputs": [
    {
     "data": {
      "text/html": [
       "<p>I will display &euro; and &#169; and &#174;</p>"
      ],
      "text/plain": [
       "   \"/tmp/jhtml.html\"\n",
       "                                                               Type: FileName\n"
      ]
     },
     "execution_count": 22,
     "metadata": {},
     "output_type": "execute_result"
    }
   ],
   "source": [
    "jHtml \"<p>I will display &euro; and &#169; and &#174;</p>\""
   ]
  },
  {
   "cell_type": "code",
   "execution_count": 23,
   "metadata": {
    "collapsed": false
   },
   "outputs": [
    {
     "data": {
      "text/html": [
       "<p>This is <sub>subscripted</sub> text.</p>"
      ],
      "text/plain": [
       "   \"/tmp/jhtml.html\"\n",
       "                                                               Type: FileName\n"
      ]
     },
     "execution_count": 23,
     "metadata": {},
     "output_type": "execute_result"
    }
   ],
   "source": [
    "jHtml \"<p>This is <sub>subscripted</sub> text.</p>\""
   ]
  },
  {
   "cell_type": "code",
   "execution_count": 24,
   "metadata": {
    "collapsed": false
   },
   "outputs": [
    {
     "data": {
      "text/html": [
       "<form>   First name:<br>   <input type=\"text\" name=\"firstname\">   <br>   Last name:<br>   <input type=\"text\" name=\"lastname\"> </form> "
      ],
      "text/plain": [
       "   \"/tmp/jhtml.html\"\n",
       "                                                               Type: FileName\n"
      ]
     },
     "execution_count": 24,
     "metadata": {},
     "output_type": "execute_result"
    }
   ],
   "source": [
    "jHtml \"<form> _\n",
    "  First name:<br> _\n",
    "  <input type=_\"text_\" name=_\"firstname_\"> _\n",
    "  <br> _\n",
    "  Last name:<br> _\n",
    "  <input type=_\"text_\" name=_\"lastname_\"> _\n",
    "</form> \""
   ]
  },
  {
   "cell_type": "code",
   "execution_count": 25,
   "metadata": {
    "collapsed": false
   },
   "outputs": [
    {
     "data": {
      "text/html": [
       "<svg width=\"300\" height=\"200\"> <polygon points=\"100,10 40,198 190,78 10,78 160,198\"   style=\"fill:lime;stroke:purple;stroke-width:5;fill-rule:evenodd;\"/> </svg>"
      ],
      "text/plain": [
       "   \"/tmp/jhtml.html\"\n",
       "                                                               Type: FileName\n"
      ]
     },
     "execution_count": 25,
     "metadata": {},
     "output_type": "execute_result"
    }
   ],
   "source": [
    "jHtml \"<svg width=_\"300_\" height=_\"200_\"> <polygon points=_\"100,10 40,198 190,78 10,78 160,198_\" _\n",
    "  style=_\"fill:lime;stroke:purple;stroke-width:5;fill-rule:evenodd;_\"/> </svg>\""
   ]
  },
  {
   "cell_type": "code",
   "execution_count": 26,
   "metadata": {
    "collapsed": false
   },
   "outputs": [
    {
     "data": {
      "text/html": [
       "<select name=\"cars\"> <option value=\"volvo\">Volvo</option> <option value=\"saab\">Saab</option> <option value=\"fiat\">Fiat</option> <option value=\"audi\">Audi</option> </select>"
      ],
      "text/plain": [
       "   \"/tmp/jhtml.html\"\n",
       "                                                               Type: FileName\n"
      ]
     },
     "execution_count": 26,
     "metadata": {},
     "output_type": "execute_result"
    }
   ],
   "source": [
    "jHtml  \"<select name=_\"cars_\"> _\n",
    "<option value=_\"volvo_\">Volvo</option> _\n",
    "<option value=_\"saab_\">Saab</option> _\n",
    "<option value=_\"fiat_\">Fiat</option> _\n",
    "<option value=_\"audi_\">Audi</option> _\n",
    "</select>\""
   ]
  },
  {
   "cell_type": "code",
   "execution_count": 27,
   "metadata": {
    "collapsed": false
   },
   "outputs": [
    {
     "data": {
      "text/html": [
       "$$-\\frac{\\hbar^2}{2m} \\Delta\\Psi+V(x)\\,\\Psi(x)=\\ldots$$"
      ],
      "text/plain": [
       "   \"/tmp/jhtml.html\"\n",
       "                                                               Type: FileName\n"
      ]
     },
     "execution_count": 27,
     "metadata": {},
     "output_type": "execute_result"
    }
   ],
   "source": [
    "jHtml \"$$-\\frac{\\hbar^2}{2m} \\Delta\\Psi+V(x)\\,\\Psi(x)=\\ldots$$\""
   ]
  },
  {
   "cell_type": "markdown",
   "metadata": {},
   "source": [
    "### Error tests"
   ]
  },
  {
   "cell_type": "code",
   "execution_count": 28,
   "metadata": {
    "collapsed": false
   },
   "outputs": [
    {
     "name": "stderr",
     "output_type": "stream",
     "text": [
      " \n",
      "   >> Error detected within library code:\n",
      "   division by zero\n",
      "\n"
     ]
    },
    {
     "data": {
      "text/plain": [
       "error\n"
      ]
     },
     "execution_count": 28,
     "metadata": {},
     "output_type": "execute_result"
    }
   ],
   "source": [
    "1/0"
   ]
  },
  {
   "cell_type": "code",
   "execution_count": 29,
   "metadata": {
    "collapsed": false
   },
   "outputs": [
    {
     "name": "stderr",
     "output_type": "stream",
     "text": [
      "SIMPLE-ERROR: \n",
      "BesselI not implemented for (1.0 23.299999999999997)\n"
     ]
    },
    {
     "data": {
      "text/plain": []
     },
     "execution_count": 29,
     "metadata": {},
     "output_type": "execute_result"
    }
   ],
   "source": [
    "besselI(1,23.3)"
   ]
  },
  {
   "cell_type": "code",
   "execution_count": null,
   "metadata": {
    "collapsed": true
   },
   "outputs": [],
   "source": []
  }
 ],
 "metadata": {
  "kernelspec": {
   "display_name": "FriCAS",
   "language": "spad",
   "name": "ifricas"
  },
  "language_info": {
   "codemirror_mode": "spad",
   "mimetype": "text/x-spad",
   "name": "SPAD",
   "pygments_lexer": "spad",
   "version": "1.2.6"
  },
  "name": "test.ipynb"
 },
 "nbformat": 4,
 "nbformat_minor": 0
}
